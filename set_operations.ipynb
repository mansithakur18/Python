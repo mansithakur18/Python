{
  "nbformat": 4,
  "nbformat_minor": 0,
  "metadata": {
    "colab": {
      "provenance": []
    },
    "kernelspec": {
      "name": "python3",
      "display_name": "Python 3"
    },
    "language_info": {
      "name": "python"
    }
  },
  "cells": [
    {
      "cell_type": "code",
      "execution_count": 1,
      "metadata": {
        "colab": {
          "base_uri": "https://localhost:8080/"
        },
        "id": "XQj6ewtuEo1M",
        "outputId": "0972f545-a3f6-445f-cc75-b6f01b1a5bff"
      },
      "outputs": [
        {
          "output_type": "stream",
          "name": "stdout",
          "text": [
            "{1, 2, 3, 4}\n"
          ]
        }
      ],
      "source": [
        "#print set\n",
        "x = {1,2,3,4}\n",
        "print(x)"
      ]
    },
    {
      "cell_type": "code",
      "source": [
        "#adding elemnt in set\n",
        "x = {1,2,3,4}\n",
        "x.add(5)    #set does not allow duplicate value\n",
        "print(x)\n",
        "\n",
        "y = {1,2,3,4,5}\n",
        "y.add(4)\n",
        "print(y)"
      ],
      "metadata": {
        "colab": {
          "base_uri": "https://localhost:8080/"
        },
        "id": "b3nZBICwF6cj",
        "outputId": "fa3d0289-3b35-4e1c-812c-c35c9fca4d9d"
      },
      "execution_count": 3,
      "outputs": [
        {
          "output_type": "stream",
          "name": "stdout",
          "text": [
            "{1, 2, 3, 4, 5}\n",
            "{1, 2, 3, 4, 5}\n"
          ]
        }
      ]
    },
    {
      "cell_type": "code",
      "source": [
        "#clear method\n",
        "x = {1,2,3,4}\n",
        "x.clear()\n",
        "print(x)"
      ],
      "metadata": {
        "colab": {
          "base_uri": "https://localhost:8080/"
        },
        "id": "2bv-cjkwGDsY",
        "outputId": "c9266463-e130-4891-8eed-e36a3fe1ff0e"
      },
      "execution_count": 4,
      "outputs": [
        {
          "output_type": "stream",
          "name": "stdout",
          "text": [
            "set()\n"
          ]
        }
      ]
    },
    {
      "cell_type": "code",
      "source": [
        "#copy method\n",
        "x = {1,2,3,4}\n",
        "x.copy()\n",
        "print(x)"
      ],
      "metadata": {
        "colab": {
          "base_uri": "https://localhost:8080/"
        },
        "id": "EXIyLEQ3GWiA",
        "outputId": "6c4e30cb-7967-43e8-f2d3-77accdcda667"
      },
      "execution_count": 5,
      "outputs": [
        {
          "output_type": "stream",
          "name": "stdout",
          "text": [
            "{1, 2, 3, 4}\n"
          ]
        }
      ]
    },
    {
      "cell_type": "code",
      "source": [
        "#difference method\n",
        "x = {1,2,3,4}\n",
        "y =  {6,7,8,2}\n",
        "z =x.difference(y)\n",
        "print(z)"
      ],
      "metadata": {
        "colab": {
          "base_uri": "https://localhost:8080/"
        },
        "id": "0kF196P0GWoY",
        "outputId": "b156aef0-4218-4098-f1bc-42ff08e5472a"
      },
      "execution_count": 6,
      "outputs": [
        {
          "output_type": "stream",
          "name": "stdout",
          "text": [
            "{1, 3, 4}\n"
          ]
        }
      ]
    },
    {
      "cell_type": "code",
      "source": [
        "#difference update method\n",
        "x = {1,2,3,4}\n",
        "y =  {6,7,8,2}\n",
        "x.difference_update(y)\n",
        "print(x)"
      ],
      "metadata": {
        "colab": {
          "base_uri": "https://localhost:8080/"
        },
        "id": "yK9hpBlKGtKo",
        "outputId": "e5fc3e4d-db76-4066-ef1c-2a52960f3114"
      },
      "execution_count": 7,
      "outputs": [
        {
          "output_type": "stream",
          "name": "stdout",
          "text": [
            "{1, 3, 4}\n"
          ]
        }
      ]
    },
    {
      "cell_type": "code",
      "source": [
        "#discard method\n",
        "x = {1,2,3,4,5,6}\n",
        "x.discard(3)\n",
        "print(x)"
      ],
      "metadata": {
        "colab": {
          "base_uri": "https://localhost:8080/"
        },
        "id": "8ufDhfBwG5lf",
        "outputId": "8124e065-e8e0-4232-b808-277e9e88df4a"
      },
      "execution_count": 8,
      "outputs": [
        {
          "output_type": "stream",
          "name": "stdout",
          "text": [
            "{1, 2, 4, 5, 6}\n"
          ]
        }
      ]
    },
    {
      "cell_type": "code",
      "source": [
        "#intersection method\n",
        "x = {1,2,3,4}\n",
        "y =  {6,7,8,2}\n",
        "z = x.intersection(y)\n",
        "print(z)"
      ],
      "metadata": {
        "colab": {
          "base_uri": "https://localhost:8080/"
        },
        "id": "VCa41KvpGtR2",
        "outputId": "6db99d66-a5a0-4472-cea9-2368421f1385"
      },
      "execution_count": 9,
      "outputs": [
        {
          "output_type": "stream",
          "name": "stdout",
          "text": [
            "{2}\n"
          ]
        }
      ]
    },
    {
      "cell_type": "code",
      "source": [
        "#intersection_update method\n",
        "x = {1,2,3,4}\n",
        "y =  {6,7,8,2}\n",
        "x.intersection_update(y)\n",
        "print(x)\n"
      ],
      "metadata": {
        "colab": {
          "base_uri": "https://localhost:8080/"
        },
        "id": "fQg8gN_gHH8J",
        "outputId": "a7da4ae8-c9c9-42d4-b544-b2435c0cdf62"
      },
      "execution_count": 11,
      "outputs": [
        {
          "output_type": "stream",
          "name": "stdout",
          "text": [
            "{2}\n"
          ]
        }
      ]
    },
    {
      "cell_type": "code",
      "source": [
        "#is disjoint method\n",
        "x = {1,2,3,4}\n",
        "y =  {6,7,8,2}      #returns false if any one value is same\n",
        "z = x.isdisjoint(y)\n",
        "print(z)"
      ],
      "metadata": {
        "colab": {
          "base_uri": "https://localhost:8080/"
        },
        "id": "ttJF5IqxHjXE",
        "outputId": "f3c822e6-30a1-4ebb-8f48-ffa1bd4410a6"
      },
      "execution_count": 12,
      "outputs": [
        {
          "output_type": "stream",
          "name": "stdout",
          "text": [
            "False\n"
          ]
        }
      ]
    },
    {
      "cell_type": "code",
      "source": [
        "#is subset method\n",
        "x = {1,2,3,4}\n",
        "y =  {6,7,8,1,2,3,4,5}\n",
        "z = x.issubset(y)\n",
        "print(z)"
      ],
      "metadata": {
        "colab": {
          "base_uri": "https://localhost:8080/"
        },
        "id": "wMij7bYaHzTK",
        "outputId": "911148aa-e277-4e52-dd5a-81ab2b88449b"
      },
      "execution_count": 13,
      "outputs": [
        {
          "output_type": "stream",
          "name": "stdout",
          "text": [
            "True\n"
          ]
        }
      ]
    },
    {
      "cell_type": "code",
      "source": [
        "# is superset method\n",
        "x = {5,6,7,8,9,1,2,3,4}\n",
        "y = {1,2,3,4}\n",
        "z = x.issuperset(y)\n",
        "print(z)"
      ],
      "metadata": {
        "colab": {
          "base_uri": "https://localhost:8080/"
        },
        "id": "xa9-q3nxICIP",
        "outputId": "fce581f8-28e7-4d12-bcd4-9662366cf652"
      },
      "execution_count": 14,
      "outputs": [
        {
          "output_type": "stream",
          "name": "stdout",
          "text": [
            "True\n"
          ]
        }
      ]
    },
    {
      "cell_type": "code",
      "source": [
        "#pop method\n",
        "x = {1,2,3,4}     #delete random element\n",
        "x.pop()\n",
        "print(x)"
      ],
      "metadata": {
        "colab": {
          "base_uri": "https://localhost:8080/"
        },
        "id": "tuVtNgpwIQ5Q",
        "outputId": "691068b6-ba90-4c7c-d300-0b0dd097fd17"
      },
      "execution_count": 15,
      "outputs": [
        {
          "output_type": "stream",
          "name": "stdout",
          "text": [
            "{2, 3, 4}\n"
          ]
        }
      ]
    },
    {
      "cell_type": "code",
      "source": [
        "#remove method\n",
        "x = {1,2,3,4,5}\n",
        "x.remove(4)\n",
        "print(x)"
      ],
      "metadata": {
        "colab": {
          "base_uri": "https://localhost:8080/"
        },
        "id": "4YYwo8ROIQ8q",
        "outputId": "53132ce5-6df9-4ad2-b4c0-75b60dbc7254"
      },
      "execution_count": 16,
      "outputs": [
        {
          "output_type": "stream",
          "name": "stdout",
          "text": [
            "{1, 2, 3, 5}\n"
          ]
        }
      ]
    },
    {
      "cell_type": "code",
      "source": [
        "#symmetric differnce method\n",
        "x = {1,2,3,4}\n",
        "y =  {6,7,8,2}\n",
        "z = x.symmetric_difference(y)\n",
        "print(z)"
      ],
      "metadata": {
        "colab": {
          "base_uri": "https://localhost:8080/"
        },
        "id": "Mtu7SVYPIg8z",
        "outputId": "ee96e2f8-5c3b-479d-90cf-36a3aed5475d"
      },
      "execution_count": 17,
      "outputs": [
        {
          "output_type": "stream",
          "name": "stdout",
          "text": [
            "{1, 3, 4, 6, 7, 8}\n"
          ]
        }
      ]
    },
    {
      "cell_type": "code",
      "source": [
        "x = {1,2,3,4}\n",
        "y =  {6,7,8,2}\n",
        "x.symmetric_difference_update(y)\n",
        "print(x)"
      ],
      "metadata": {
        "colab": {
          "base_uri": "https://localhost:8080/"
        },
        "id": "9vioHYACIhAO",
        "outputId": "2edcd0e6-e198-44e9-e017-2da0c695314f"
      },
      "execution_count": 18,
      "outputs": [
        {
          "output_type": "stream",
          "name": "stdout",
          "text": [
            "{1, 3, 4, 6, 7, 8}\n"
          ]
        }
      ]
    },
    {
      "cell_type": "code",
      "source": [
        "#union method\n",
        "x = {1,2,3,4}\n",
        "y =  {5,6,7,8,2}\n",
        "z = x.union(y)\n",
        "print(z)"
      ],
      "metadata": {
        "colab": {
          "base_uri": "https://localhost:8080/"
        },
        "id": "Sm8mZnKYI3Ot",
        "outputId": "a2d2f9be-2f27-4bcb-8dcd-509e936712cb"
      },
      "execution_count": 19,
      "outputs": [
        {
          "output_type": "stream",
          "name": "stdout",
          "text": [
            "{1, 2, 3, 4, 5, 6, 7, 8}\n"
          ]
        }
      ]
    },
    {
      "cell_type": "code",
      "source": [
        "#add a list of elements to the set\n",
        "sample_set = {\"Yellow\", \"Orange\", \"Black\"}\n",
        "sample_list = [\"Blue\", \"Green\", \"Red\"]\n",
        "sample_set.update(sample_list)\n",
        "print(sample_set)"
      ],
      "metadata": {
        "colab": {
          "base_uri": "https://localhost:8080/"
        },
        "id": "ek0dL-x8JBv_",
        "outputId": "58a0aef4-202b-4650-f463-49ee42a798b0"
      },
      "execution_count": 21,
      "outputs": [
        {
          "output_type": "stream",
          "name": "stdout",
          "text": [
            "{'Yellow', 'Black', 'Green', 'Red', 'Orange', 'Blue'}\n"
          ]
        }
      ]
    },
    {
      "cell_type": "code",
      "source": [
        "#return a new set of identical items from two sets\n",
        "set1 = {10,20,30,40,50}\n",
        "set2 = {30,40,50,60,70}\n",
        "print(set1.intersection(set2))"
      ],
      "metadata": {
        "colab": {
          "base_uri": "https://localhost:8080/"
        },
        "id": "CAMdTZG7JuCW",
        "outputId": "c41eee96-e2b1-4e3a-b983-3320283694d9"
      },
      "execution_count": 22,
      "outputs": [
        {
          "output_type": "stream",
          "name": "stdout",
          "text": [
            "{40, 50, 30}\n"
          ]
        }
      ]
    },
    {
      "cell_type": "code",
      "source": [
        "#get only umique items from two sets\n",
        "set1 = {10,20,30,40,50}\n",
        "set2 = {30,40,50,60,70}\n",
        "print(set1.union(set2))"
      ],
      "metadata": {
        "colab": {
          "base_uri": "https://localhost:8080/"
        },
        "id": "Ssdf3r-8KRCa",
        "outputId": "24442caa-d570-4b9f-a7b1-7b700392ba1b"
      },
      "execution_count": 23,
      "outputs": [
        {
          "output_type": "stream",
          "name": "stdout",
          "text": [
            "{70, 40, 10, 50, 20, 60, 30}\n"
          ]
        }
      ]
    },
    {
      "cell_type": "code",
      "source": [
        "#update the first set with items that doesnt exist in the second list\n",
        "set1 = {10,20,30}\n",
        "set2 = {20,40,50}\n",
        "set1.difference_update(set2)\n",
        "print(set1)"
      ],
      "metadata": {
        "colab": {
          "base_uri": "https://localhost:8080/"
        },
        "id": "myFXsuy_KnKV",
        "outputId": "d08efa84-648c-4667-a322-70991e7ec4ab"
      },
      "execution_count": 24,
      "outputs": [
        {
          "output_type": "stream",
          "name": "stdout",
          "text": [
            "{10, 30}\n"
          ]
        }
      ]
    },
    {
      "cell_type": "code",
      "source": [
        "#remove items from the set at once\n",
        "#remopve 10,20,30\n",
        "set1= {10,20,30,40,50}\n",
        "set1.difference_update({10,20,30})\n",
        "print(set1)"
      ],
      "metadata": {
        "colab": {
          "base_uri": "https://localhost:8080/"
        },
        "id": "u1MafNj7LE48",
        "outputId": "954589b6-891c-4094-ae85-5a43bdbd938d"
      },
      "execution_count": 27,
      "outputs": [
        {
          "output_type": "stream",
          "name": "stdout",
          "text": [
            "{50, 40}\n"
          ]
        }
      ]
    },
    {
      "cell_type": "code",
      "source": [
        "#return a set of elemnts present in setA or B but not in both\n",
        "set1 = {10,20,30,40,50}\n",
        "set2 = {30,40,50,60,70}\n",
        "set3= set1.symmetric_difference(set2)\n",
        "print(set3)"
      ],
      "metadata": {
        "colab": {
          "base_uri": "https://localhost:8080/"
        },
        "id": "m1Eu0iXuLrqf",
        "outputId": "c791bd13-70fa-4b6a-e16a-97e608de977c"
      },
      "execution_count": 30,
      "outputs": [
        {
          "output_type": "stream",
          "name": "stdout",
          "text": [
            "{20, 70, 10, 60}\n"
          ]
        }
      ]
    },
    {
      "cell_type": "code",
      "source": [
        "#check if two sets have any elemnt common if yes display the common element\n",
        "set1= {10,20,30,40,50}\n",
        "set2= {60,70,80,90,10}\n",
        "if set1.isdisjoint(set2):\n",
        "  print(\"Two sets have no common elemnt\")\n",
        "else:\n",
        "  print(\"Two sets have common elemnt\")\n",
        "  print(set1.intersection(set2))"
      ],
      "metadata": {
        "colab": {
          "base_uri": "https://localhost:8080/"
        },
        "id": "-7douN6eMZKp",
        "outputId": "32bcfc02-a862-4e75-8f4e-aee1b28bd452"
      },
      "execution_count": 31,
      "outputs": [
        {
          "output_type": "stream",
          "name": "stdout",
          "text": [
            "Two sets have common elemnt\n",
            "{10}\n"
          ]
        }
      ]
    },
    {
      "cell_type": "code",
      "source": [
        "#update set1 by adding elemnts in set2 except common elemnts\n",
        "set1 = {10,20,30,40,50}\n",
        "set2 = {30,40,50,60,70}\n",
        "set1.symmetric_difference_update(set2)\n",
        "print(set1)"
      ],
      "metadata": {
        "colab": {
          "base_uri": "https://localhost:8080/"
        },
        "id": "83LAGZ5UNDqf",
        "outputId": "bc4772f3-db06-406b-cea3-42a6fdfef122"
      },
      "execution_count": 33,
      "outputs": [
        {
          "output_type": "stream",
          "name": "stdout",
          "text": [
            "{20, 70, 10, 60}\n"
          ]
        }
      ]
    },
    {
      "cell_type": "code",
      "source": [
        "#remove items from set1 that are not common to both set1 and set2\n",
        "set1 = {10,20,30,40,50}\n",
        "set2 = {30,40,50,60,70}\n",
        "set1.intersection_update(set2)\n",
        "print(set1)"
      ],
      "metadata": {
        "colab": {
          "base_uri": "https://localhost:8080/"
        },
        "id": "ZcmpP-BoNhXT",
        "outputId": "5817b95f-45d4-44e6-f44f-7b3da9217ede"
      },
      "execution_count": 34,
      "outputs": [
        {
          "output_type": "stream",
          "name": "stdout",
          "text": [
            "{40, 50, 30}\n"
          ]
        }
      ]
    }
  ]
}
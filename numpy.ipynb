{
  "cells": [
    {
      "cell_type": "code",
      "source": [
        "import numpy as np\n",
        "print(np.__version__)"
      ],
      "metadata": {
        "id": "jfHe5Prfo6Vq",
        "outputId": "1087305b-c291-4427-c793-47e78ff26c6d",
        "colab": {
          "base_uri": "https://localhost:8080/"
        }
      },
      "execution_count": null,
      "outputs": [
        {
          "output_type": "stream",
          "name": "stdout",
          "text": [
            "1.26.4\n"
          ]
        }
      ]
    },
    {
      "cell_type": "code",
      "source": [
        "import numpy as np\n",
        "x = np.array([1,0,0,0])\n",
        "print(\"original array\")\n",
        "print(x)\n",
        "print(np.array(x))\n",
        "x = (np.array(x))\n",
        "x = np.array([0,0,0,0])\n",
        "print(np.array(x))"
      ],
      "metadata": {
        "id": "OEDY2obPpsWN",
        "outputId": "9071a58d-412c-4331-ff85-7a768a02ec61",
        "colab": {
          "base_uri": "https://localhost:8080/"
        }
      },
      "execution_count": null,
      "outputs": [
        {
          "output_type": "stream",
          "name": "stdout",
          "text": [
            "original array\n",
            "[1 0 0 0]\n",
            "[1 0 0 0]\n",
            "[0 0 0 0]\n"
          ]
        }
      ]
    },
    {
      "cell_type": "code",
      "source": [
        "import numpy as np\n",
        "array = np.array([1,-2,np.inf, -np.inf,0,3.5])\n",
        "result_pos_inf = np.isposinf(array)\n",
        "result_neg_inf = np.isneginf(array)\n",
        "print(\"result_pos_inf is\",result_pos_inf)\n",
        "print(\"result_neg_inf is\",result_neg_inf)"
      ],
      "metadata": {
        "id": "R_E2bJZVrQcf",
        "outputId": "20aff613-23c5-4444-b782-7c82eae30261",
        "colab": {
          "base_uri": "https://localhost:8080/"
        }
      },
      "execution_count": null,
      "outputs": [
        {
          "output_type": "stream",
          "name": "stdout",
          "text": [
            "result_pos_inf is [False False  True False False False]\n",
            "result_neg_inf is [False False False  True False False]\n"
          ]
        }
      ]
    },
    {
      "cell_type": "code",
      "source": [
        "import numpy as np\n",
        "a = np.array([1,0,np.nan, np.inf])\n",
        "print(a)\n",
        "print(\"Test element wise for nan \")\n",
        "print(np.isnan(array))"
      ],
      "metadata": {
        "id": "-g8-w7MFuf8c",
        "outputId": "0819657b-a063-47a4-f62c-935d5b1e1ce0",
        "colab": {
          "base_uri": "https://localhost:8080/"
        }
      },
      "execution_count": null,
      "outputs": [
        {
          "output_type": "stream",
          "name": "stdout",
          "text": [
            "[ 1.  0. nan inf]\n",
            "Test element wise for nan \n",
            "[False False False False False False]\n"
          ]
        }
      ]
    },
    {
      "cell_type": "code",
      "source": [
        "import numpy as np\n",
        "array = np.arange(30,70)\n",
        "print(array)"
      ],
      "metadata": {
        "id": "7rjg_9NfvSC6",
        "outputId": "ed2f05bf-9d97-4086-ed50-262cf9c8b793",
        "colab": {
          "base_uri": "https://localhost:8080/"
        }
      },
      "execution_count": null,
      "outputs": [
        {
          "output_type": "stream",
          "name": "stdout",
          "text": [
            "[30 31 32 33 34 35 36 37 38 39 40 41 42 43 44 45 46 47 48 49 50 51 52 53\n",
            " 54 55 56 57 58 59 60 61 62 63 64 65 66 67 68 69]\n"
          ]
        }
      ]
    },
    {
      "cell_type": "code",
      "source": [
        "#print only even\n",
        "import numpy as np\n",
        "array = np.arange(30,70,2)\n",
        "print(array)"
      ],
      "metadata": {
        "id": "ZeZ-f4IDv-zj",
        "outputId": "bde88578-d26f-4b80-b974-a8cbb69d064a",
        "colab": {
          "base_uri": "https://localhost:8080/"
        }
      },
      "execution_count": null,
      "outputs": [
        {
          "output_type": "stream",
          "name": "stdout",
          "text": [
            "[30 32 34 36 38 40 42 44 46 48 50 52 54 56 58 60 62 64 66 68]\n"
          ]
        }
      ]
    },
    {
      "cell_type": "code",
      "source": [
        "#to create 3x3 identity matrix\n",
        "import numpy as np\n",
        "array = np.identity(3)\n",
        "\n",
        "print(array)"
      ],
      "metadata": {
        "id": "OA0D8lA6wTfN",
        "outputId": "cb66b877-8889-4ddf-edb5-1d511502c38c",
        "colab": {
          "base_uri": "https://localhost:8080/"
        }
      },
      "execution_count": null,
      "outputs": [
        {
          "output_type": "stream",
          "name": "stdout",
          "text": [
            "[[1. 0. 0.]\n",
            " [0. 1. 0.]\n",
            " [0. 0. 1.]]\n"
          ]
        }
      ]
    },
    {
      "cell_type": "code",
      "source": [
        "#perform add , sub, multiply of two matrix\n",
        "import numpy as np\n",
        "a= np.array([[1,2],[3,4],])\n",
        "b= np.array([[7,8],[3,3],])\n",
        "addition = a+b\n",
        "subtraction = a-b\n",
        "multiplication = np.dot(a,b)\n",
        "print(\"matrix a:\")\n",
        "print(a)\n",
        "print(\"\\nmatrix b:\")\n",
        "print(b)\n",
        "print(\"addition of a and b : \")\n",
        "print(addition)\n",
        "print(\"subtraction of a and b : \")\n",
        "print(subtraction)\n",
        "print(\"multiplication of a and b : \")\n",
        "print(multiplication)\n",
        "\n"
      ],
      "metadata": {
        "id": "iwpnPLLhxh5B",
        "outputId": "c4f76bd8-c68f-4690-a615-0d5d2499ee28",
        "colab": {
          "base_uri": "https://localhost:8080/"
        }
      },
      "execution_count": null,
      "outputs": [
        {
          "output_type": "stream",
          "name": "stdout",
          "text": [
            "matrix a:\n",
            "[[1 2]\n",
            " [3 4]]\n",
            "\n",
            "matrix b:\n",
            "[[7 8]\n",
            " [3 3]]\n",
            "addition of a and b : \n",
            "[[ 8 10]\n",
            " [ 6  7]]\n",
            "subtraction of a and b : \n",
            "[[-6 -6]\n",
            " [ 0  1]]\n",
            "multiplication of a and b : \n",
            "[[13 14]\n",
            " [33 36]]\n"
          ]
        }
      ]
    },
    {
      "cell_type": "code",
      "source": [
        "#to reverse 4x4 array\n",
        "import numpy as np\n",
        "a= np.array([[1,2,5,6],[3,4,7,8],[1,2,3,4],[5,6,7,8]])\n",
        "print(a)\n",
        "print(a[: : -1])\n"
      ],
      "metadata": {
        "id": "iYZ9icjKzbc6",
        "outputId": "4daaedc3-a11a-49eb-879f-aeaa28fbfb5f",
        "colab": {
          "base_uri": "https://localhost:8080/"
        }
      },
      "execution_count": null,
      "outputs": [
        {
          "output_type": "stream",
          "name": "stdout",
          "text": [
            "[[1 2 5 6]\n",
            " [3 4 7 8]\n",
            " [1 2 3 4]\n",
            " [5 6 7 8]]\n",
            "[[5 6 7 8]\n",
            " [1 2 3 4]\n",
            " [3 4 7 8]\n",
            " [1 2 5 6]]\n"
          ]
        }
      ]
    },
    {
      "cell_type": "code",
      "source": [
        "#to transpose given 4x4 matrix\n",
        "import numpy as np\n",
        "a= np.array([[1,2,5,6],[3,4,7,8],[1,2,3,4],[5,6,7,8]])\n",
        "print(a)\n",
        "print(np.transpose(a))"
      ],
      "metadata": {
        "id": "9yx_Dn3W2lml",
        "outputId": "ac39022a-e21a-40bc-ce55-17d61dafa812",
        "colab": {
          "base_uri": "https://localhost:8080/"
        }
      },
      "execution_count": null,
      "outputs": [
        {
          "output_type": "stream",
          "name": "stdout",
          "text": [
            "[[1 2 5 6]\n",
            " [3 4 7 8]\n",
            " [1 2 3 4]\n",
            " [5 6 7 8]]\n",
            "[[1 3 1 5]\n",
            " [2 4 2 6]\n",
            " [5 7 3 7]\n",
            " [6 8 4 8]]\n"
          ]
        }
      ]
    },
    {
      "cell_type": "code",
      "source": [
        "#create new array from given array from swapping first and last,second and third  column\n",
        "import numpy as np\n",
        "a= np.array([[1,2,5,6],[3,4,7,8],[1,2,3,4],[5,6,7,8]])\n",
        "print(a)\n",
        "\n"
      ],
      "metadata": {
        "id": "2-e6dRbF4SLG"
      },
      "execution_count": null,
      "outputs": []
    }
  ],
  "metadata": {
    "colab": {
      "provenance": []
    },
    "kernelspec": {
      "display_name": "Python 3",
      "name": "python3"
    }
  },
  "nbformat": 4,
  "nbformat_minor": 0
}
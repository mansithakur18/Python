{
  "nbformat": 4,
  "nbformat_minor": 0,
  "metadata": {
    "colab": {
      "provenance": []
    },
    "kernelspec": {
      "name": "python3",
      "display_name": "Python 3"
    },
    "language_info": {
      "name": "python"
    }
  },
  "cells": [
    {
      "cell_type": "code",
      "execution_count": 1,
      "metadata": {
        "colab": {
          "base_uri": "https://localhost:8080/"
        },
        "id": "2gsI55cHPuX6",
        "outputId": "21d5e59c-3934-4eab-b1c4-9ca0e4bd4e4b"
      },
      "outputs": [
        {
          "output_type": "stream",
          "name": "stdout",
          "text": [
            "(1, 2, 3, 4, 5)\n"
          ]
        }
      ],
      "source": [
        "#print int tuple\n",
        "t = (1,2,3,4,5)\n",
        "print(t)"
      ]
    },
    {
      "cell_type": "code",
      "source": [
        "#char tuple\n",
        "t = ('a','b','c','d')\n",
        "print(t)"
      ],
      "metadata": {
        "colab": {
          "base_uri": "https://localhost:8080/"
        },
        "id": "YMBQgMPjQBPx",
        "outputId": "b666951c-81ac-428a-c974-df89155cc1e2"
      },
      "execution_count": 2,
      "outputs": [
        {
          "output_type": "stream",
          "name": "stdout",
          "text": [
            "('a', 'b', 'c', 'd')\n"
          ]
        }
      ]
    },
    {
      "cell_type": "code",
      "source": [
        "#string tuple\n",
        "t = (\"hello\", \"world\")\n",
        "print(t)"
      ],
      "metadata": {
        "colab": {
          "base_uri": "https://localhost:8080/"
        },
        "id": "eThVuv7dQIsc",
        "outputId": "902b93d4-ec2b-4488-de1d-f7682224fdc7"
      },
      "execution_count": 3,
      "outputs": [
        {
          "output_type": "stream",
          "name": "stdout",
          "text": [
            "('hello', 'world')\n"
          ]
        }
      ]
    },
    {
      "cell_type": "code",
      "source": [
        "#del operator\n",
        "my_tuple = (1,2,3,4,5)\n",
        "del my_tuple\n",
        "\n",
        "\n"
      ],
      "metadata": {
        "id": "pW8o1x4JQQeZ"
      },
      "execution_count": 14,
      "outputs": []
    },
    {
      "cell_type": "code",
      "source": [
        "#index and count\n",
        "t = (1,2,3,4,5,3,6)\n",
        "print(t)\n",
        "print(t.index(4))\n",
        "print(t.count(3))"
      ],
      "metadata": {
        "colab": {
          "base_uri": "https://localhost:8080/"
        },
        "id": "_YOpVxMHRCcS",
        "outputId": "1fffc473-37a7-4a9d-c689-16d70c4e8bce"
      },
      "execution_count": 17,
      "outputs": [
        {
          "output_type": "stream",
          "name": "stdout",
          "text": [
            "(1, 2, 3, 4, 5, 3, 6)\n",
            "3\n",
            "2\n"
          ]
        }
      ]
    },
    {
      "cell_type": "code",
      "source": [
        "#zip\n",
        "t = (1,2,3,4,5,6)\n",
        "list = [\"a\", \"b\", \"c\"]\n",
        "x = zip(t,list)\n",
        "print(x)\n",
        "print(tuple(x))"
      ],
      "metadata": {
        "colab": {
          "base_uri": "https://localhost:8080/"
        },
        "id": "aGDdzyFARYLs",
        "outputId": "fd0571ed-5a86-408e-f6b1-2a7111a4f903"
      },
      "execution_count": 22,
      "outputs": [
        {
          "output_type": "stream",
          "name": "stdout",
          "text": [
            "<zip object at 0x7b378d153d80>\n",
            "((1, 'a'), (2, 'b'), (3, 'c'))\n"
          ]
        }
      ]
    },
    {
      "cell_type": "code",
      "source": [
        "#reverse the tuple\n",
        "tuple1 = (10,20,30,40,50)\n",
        "tuple1 = tuple1[::-1]\n",
        "print(tuple1)"
      ],
      "metadata": {
        "colab": {
          "base_uri": "https://localhost:8080/"
        },
        "id": "6C2FFK9_R2B7",
        "outputId": "146ce728-b4a7-446c-fcd6-ce9407358722"
      },
      "execution_count": 23,
      "outputs": [
        {
          "output_type": "stream",
          "name": "stdout",
          "text": [
            "(50, 40, 30, 20, 10)\n"
          ]
        }
      ]
    },
    {
      "cell_type": "code",
      "source": [
        "#Acess value 20 from the tuple\n",
        "tuple1 = (\"Orange\", [10,20,30], (5,15,25))\n",
        "print(tuple1[1][1])"
      ],
      "metadata": {
        "colab": {
          "base_uri": "https://localhost:8080/"
        },
        "id": "R2bit6BqSIwS",
        "outputId": "5e8b730a-85ab-4c4f-ed67-49d55139151a"
      },
      "execution_count": 24,
      "outputs": [
        {
          "output_type": "stream",
          "name": "stdout",
          "text": [
            "20\n"
          ]
        }
      ]
    },
    {
      "cell_type": "code",
      "source": [
        "#create a tuple with single item 50\n",
        "tuple1 = (50,)\n",
        "print(tuple1)"
      ],
      "metadata": {
        "colab": {
          "base_uri": "https://localhost:8080/"
        },
        "id": "uJZSU33iSUFA",
        "outputId": "7dbc2702-fd22-4d6c-a7ed-07018713d1c7"
      },
      "execution_count": 25,
      "outputs": [
        {
          "output_type": "stream",
          "name": "stdout",
          "text": [
            "(50,)\n"
          ]
        }
      ]
    },
    {
      "cell_type": "code",
      "source": [
        "#unpack the tuple into four variables\n",
        "tuple1 = (10,20,30,40,)\n",
        "a,b,c,d = tuple1\n",
        "print(a)\n",
        "print(b)\n",
        "print(c)\n",
        "print(d)"
      ],
      "metadata": {
        "colab": {
          "base_uri": "https://localhost:8080/"
        },
        "id": "YUaGcHPaSg8T",
        "outputId": "5e12c37f-a34e-415e-bdc2-dff4f9f522a4"
      },
      "execution_count": 26,
      "outputs": [
        {
          "output_type": "stream",
          "name": "stdout",
          "text": [
            "10\n",
            "20\n",
            "30\n",
            "40\n"
          ]
        }
      ]
    },
    {
      "cell_type": "code",
      "source": [
        "#swap two tuples in python\n",
        "tuple1 = (10,20)\n",
        "tuple2 = (50,60)\n",
        "tuple1 , tuple2 = tuple2, tuple1\n",
        "print(\"Tuple 1: \",tuple1)\n",
        "print(\"Tuple 2 : \",tuple2)"
      ],
      "metadata": {
        "colab": {
          "base_uri": "https://localhost:8080/"
        },
        "id": "roMtfFinSzrp",
        "outputId": "2e52737a-8bb1-4b2a-ee8c-cc7e34d78ec3"
      },
      "execution_count": 33,
      "outputs": [
        {
          "output_type": "stream",
          "name": "stdout",
          "text": [
            "Tuple 1:  (50, 60)\n",
            "Tuple 2 :  (10, 20)\n"
          ]
        }
      ]
    },
    {
      "cell_type": "code",
      "source": [
        "#copy specific elements from 1 tuple to a new tuple\n",
        "tuple1 = (11,22,33,44,55)\n",
        "tuple2 = tuple1[1:4]\n",
        "print(\"New tuple : \", tuple2)"
      ],
      "metadata": {
        "colab": {
          "base_uri": "https://localhost:8080/"
        },
        "id": "QGz5UySfTxzm",
        "outputId": "8f8b9b0a-9bd9-4277-f2c9-2bd0b7e918d7"
      },
      "execution_count": 37,
      "outputs": [
        {
          "output_type": "stream",
          "name": "stdout",
          "text": [
            "New tuple :  (22, 33, 44)\n"
          ]
        }
      ]
    },
    {
      "cell_type": "code",
      "source": [
        "#Modify the tuple\n",
        "tuple1 = (11, [22,33],44,55)\n",
        "tuple1[1][1]= 3333\n",
        "print(tuple1)"
      ],
      "metadata": {
        "colab": {
          "base_uri": "https://localhost:8080/"
        },
        "id": "GI7at1ZhUdyJ",
        "outputId": "aa149403-2a8e-4b2c-8a74-798f9c82ff75"
      },
      "execution_count": 38,
      "outputs": [
        {
          "output_type": "stream",
          "name": "stdout",
          "text": [
            "(11, [22, 3333], 44, 55)\n"
          ]
        }
      ]
    },
    {
      "cell_type": "code",
      "source": [
        "#sort a tuple of tuples by 2nd item\n",
        "tuple1 = (('a',23),('b',37),('c',11),('d',29))\n",
        "del list\n",
        "tuple1 = tuple(sorted(list(tuple1), key = lambda x:x[1]))\n",
        "print(tuple1)"
      ],
      "metadata": {
        "colab": {
          "base_uri": "https://localhost:8080/"
        },
        "id": "kYv5hU64Uwrv",
        "outputId": "63e7e0fa-2337-4b7a-e3c6-a535fcac4dbe"
      },
      "execution_count": 40,
      "outputs": [
        {
          "output_type": "stream",
          "name": "stdout",
          "text": [
            "(('c', 11), ('a', 23), ('d', 29), ('b', 37))\n"
          ]
        }
      ]
    },
    {
      "cell_type": "code",
      "source": [
        "#count the number of occurancences of item 50 from a tuple\n",
        "tuple1 = (50,10,60,70,50)\n",
        "print(tuple1.count(50))"
      ],
      "metadata": {
        "colab": {
          "base_uri": "https://localhost:8080/"
        },
        "id": "0hDJZnNfVTBc",
        "outputId": "7ed2374c-2538-4ecc-8fd3-661daa0f840f"
      },
      "execution_count": 41,
      "outputs": [
        {
          "output_type": "stream",
          "name": "stdout",
          "text": [
            "2\n"
          ]
        }
      ]
    },
    {
      "cell_type": "code",
      "source": [
        "#check if all items in the tuple are same\n",
        "tuple1 = (45,45,45,45)\n",
        "def check(t):\n",
        "    return all(i == t[0] for i in t)\n",
        "print(check(tuple1))"
      ],
      "metadata": {
        "colab": {
          "base_uri": "https://localhost:8080/"
        },
        "id": "qBsSos0LVgut",
        "outputId": "fdfe1a13-8c53-45fd-ae89-1c2628a72d5b"
      },
      "execution_count": 42,
      "outputs": [
        {
          "output_type": "stream",
          "name": "stdout",
          "text": [
            "True\n"
          ]
        }
      ]
    }
  ]
}
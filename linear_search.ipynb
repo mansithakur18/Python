{
  "nbformat": 4,
  "nbformat_minor": 0,
  "metadata": {
    "colab": {
      "provenance": []
    },
    "kernelspec": {
      "name": "python3",
      "display_name": "Python 3"
    },
    "language_info": {
      "name": "python"
    }
  },
  "cells": [
    {
      "cell_type": "code",
      "execution_count": 3,
      "metadata": {
        "id": "FFvd1biMG76d",
        "colab": {
          "base_uri": "https://localhost:8080/"
        },
        "outputId": "0e0b9fdb-7ee7-4709-a2c3-09d8cc12b632"
      },
      "outputs": [
        {
          "output_type": "stream",
          "name": "stdout",
          "text": [
            "Enter the element you want to search in the list : 40\n",
            "Element 40 found at index 3\n"
          ]
        }
      ],
      "source": [
        "#linear search\n",
        "list = [ 10,20,30,40,50]\n",
        "target = int(input(\"Enter the element you want to search in the list : \"))\n",
        "\n",
        "found = False\n",
        "for i in range(len(list)):\n",
        "    if list[i] == target:\n",
        "        found = True\n",
        "        print(f\"Element {target} found at index {i}\")\n",
        "        break\n",
        "    else:\n",
        "        continue\n",
        "if not found:\n",
        "    print(f\"Element {target} not found in the list\")"
      ]
    }
  ]
}
{
  "nbformat": 4,
  "nbformat_minor": 0,
  "metadata": {
    "colab": {
      "provenance": []
    },
    "kernelspec": {
      "name": "python3",
      "display_name": "Python 3"
    },
    "language_info": {
      "name": "python"
    }
  },
  "cells": [
    {
      "cell_type": "code",
      "execution_count": 1,
      "metadata": {
        "colab": {
          "base_uri": "https://localhost:8080/"
        },
        "id": "UY9LLS2kFeWr",
        "outputId": "9cec2518-d5c6-4a75-a9cf-4aca851efbb0"
      },
      "outputs": [
        {
          "output_type": "stream",
          "name": "stdout",
          "text": [
            "[1, 2, 3, 4, 5]\n"
          ]
        }
      ],
      "source": [
        "#list operations\n",
        "# 1. print list\n",
        "list = [1,2,3,4,5]\n",
        "print(list)"
      ]
    },
    {
      "cell_type": "code",
      "source": [
        "# 2. append method\n",
        "list = [1,2,3,4,5]\n",
        "list.append(6)\n",
        "print(list)"
      ],
      "metadata": {
        "colab": {
          "base_uri": "https://localhost:8080/"
        },
        "id": "sCnVuF7wGXtB",
        "outputId": "562489fa-d8c5-498f-df95-6fd5d572670c"
      },
      "execution_count": 2,
      "outputs": [
        {
          "output_type": "stream",
          "name": "stdout",
          "text": [
            "[1, 2, 3, 4, 5, 6]\n"
          ]
        }
      ]
    },
    {
      "cell_type": "code",
      "source": [
        "#add elemnt using index\n",
        "list = [1,2,3,4,5]\n",
        "list[3] = 100\n",
        "print(list)"
      ],
      "metadata": {
        "colab": {
          "base_uri": "https://localhost:8080/"
        },
        "id": "9SKTnFeqGhJF",
        "outputId": "2f17bc7b-df5a-4932-bd7f-8ce765df015e"
      },
      "execution_count": 3,
      "outputs": [
        {
          "output_type": "stream",
          "name": "stdout",
          "text": [
            "[1, 2, 3, 100, 5]\n"
          ]
        }
      ]
    },
    {
      "cell_type": "code",
      "source": [
        "#del method\n",
        "list = [1,2,3,4,5]\n",
        "del list[2]\n",
        "print(list)"
      ],
      "metadata": {
        "colab": {
          "base_uri": "https://localhost:8080/"
        },
        "id": "u2amg10rG2Hv",
        "outputId": "a5be980f-e04a-4973-e581-b076f17a659d"
      },
      "execution_count": 4,
      "outputs": [
        {
          "output_type": "stream",
          "name": "stdout",
          "text": [
            "[1, 2, 4, 5]\n"
          ]
        }
      ]
    },
    {
      "cell_type": "code",
      "source": [
        "#cloning list\n",
        "list = [1,2,3,4,5]\n",
        "list1 = list\n",
        "print(list1)"
      ],
      "metadata": {
        "colab": {
          "base_uri": "https://localhost:8080/"
        },
        "id": "fke0JW_THKNa",
        "outputId": "55d8e398-820c-482b-e342-fa3bc502da5d"
      },
      "execution_count": 5,
      "outputs": [
        {
          "output_type": "stream",
          "name": "stdout",
          "text": [
            "[1, 2, 3, 4, 5]\n"
          ]
        }
      ]
    },
    {
      "cell_type": "code",
      "source": [
        "#returns lenght of list\n",
        "list = [1,2,3,4,5]\n",
        "len(list)\n"
      ],
      "metadata": {
        "colab": {
          "base_uri": "https://localhost:8080/"
        },
        "id": "QuaOox4LHXOR",
        "outputId": "6a625c91-8190-4789-b420-aebd9b6282e4"
      },
      "execution_count": 8,
      "outputs": [
        {
          "output_type": "execute_result",
          "data": {
            "text/plain": [
              "5"
            ]
          },
          "metadata": {},
          "execution_count": 8
        }
      ]
    },
    {
      "cell_type": "code",
      "source": [
        "#concatenation\n",
        "list1 = [1,2,3,4,5]\n",
        "list2 = [6,7,8,9]\n",
        "list3 = list1+list2\n",
        "print(list3)"
      ],
      "metadata": {
        "colab": {
          "base_uri": "https://localhost:8080/"
        },
        "id": "ADJ1SzkZHlJE",
        "outputId": "832f14d2-8fba-4114-8cc4-6de002b53cf0"
      },
      "execution_count": 9,
      "outputs": [
        {
          "output_type": "stream",
          "name": "stdout",
          "text": [
            "[1, 2, 3, 4, 5, 6, 7, 8, 9]\n"
          ]
        }
      ]
    },
    {
      "cell_type": "code",
      "source": [
        "#append method\n",
        "list = []\n",
        "list.append(1)\n",
        "list.append(2)\n",
        "print(list)"
      ],
      "metadata": {
        "colab": {
          "base_uri": "https://localhost:8080/"
        },
        "id": "allA0F4gIHm1",
        "outputId": "79505101-81d2-4d37-a559-68f87c99a3ee"
      },
      "execution_count": 11,
      "outputs": [
        {
          "output_type": "stream",
          "name": "stdout",
          "text": [
            "[1, 2]\n"
          ]
        }
      ]
    },
    {
      "cell_type": "code",
      "source": [
        "#clear method\n",
        "list= [1,2,3,4,5]\n",
        "list.clear()\n",
        "print(list)"
      ],
      "metadata": {
        "colab": {
          "base_uri": "https://localhost:8080/"
        },
        "id": "aISRXRNxIUzY",
        "outputId": "610750ab-c772-4145-9f30-2fb2b01a854e"
      },
      "execution_count": 12,
      "outputs": [
        {
          "output_type": "stream",
          "name": "stdout",
          "text": [
            "[]\n"
          ]
        }
      ]
    },
    {
      "cell_type": "code",
      "source": [
        "#copy method\n",
        "list = [1,2,3,4,5]\n",
        "list.copy()\n",
        "print(list)"
      ],
      "metadata": {
        "colab": {
          "base_uri": "https://localhost:8080/"
        },
        "id": "1Fa5e1UtIeZx",
        "outputId": "46ec67ee-7813-4aa3-e531-6fea5a0b82dc"
      },
      "execution_count": 13,
      "outputs": [
        {
          "output_type": "stream",
          "name": "stdout",
          "text": [
            "[1, 2, 3, 4, 5]\n"
          ]
        }
      ]
    },
    {
      "cell_type": "code",
      "source": [
        "#count method\n",
        "list = [1,2,3,4,5,2,7,2,8,2]\n",
        "list.count(2)\n"
      ],
      "metadata": {
        "colab": {
          "base_uri": "https://localhost:8080/"
        },
        "id": "9d5r9M0PIlwQ",
        "outputId": "69333db2-f65f-4b33-9cfd-eb5561d227eb"
      },
      "execution_count": 14,
      "outputs": [
        {
          "output_type": "execute_result",
          "data": {
            "text/plain": [
              "4"
            ]
          },
          "metadata": {},
          "execution_count": 14
        }
      ]
    },
    {
      "cell_type": "code",
      "source": [
        "#extend method\n",
        "list = [1,2,3,4,5]\n",
        "print(list)\n",
        "list.extend([6,7,8])\n",
        "print(list)"
      ],
      "metadata": {
        "colab": {
          "base_uri": "https://localhost:8080/"
        },
        "id": "Hrwp2sMQIx3p",
        "outputId": "73a5294a-8296-4b63-9329-1f311bb17047"
      },
      "execution_count": 15,
      "outputs": [
        {
          "output_type": "stream",
          "name": "stdout",
          "text": [
            "[1, 2, 3, 4, 5]\n",
            "[1, 2, 3, 4, 5, 6, 7, 8]\n"
          ]
        }
      ]
    },
    {
      "cell_type": "code",
      "source": [
        "#index\n",
        "list = [1,2,3,4,5]\n",
        "print(list)\n",
        "print(list.index(3))"
      ],
      "metadata": {
        "colab": {
          "base_uri": "https://localhost:8080/"
        },
        "id": "xL6iaSbhI_Xb",
        "outputId": "c34dddb9-bf5d-4edd-c283-a06d9fffc4ca"
      },
      "execution_count": 17,
      "outputs": [
        {
          "output_type": "stream",
          "name": "stdout",
          "text": [
            "[1, 2, 3, 4, 5]\n"
          ]
        },
        {
          "output_type": "execute_result",
          "data": {
            "text/plain": [
              "2"
            ]
          },
          "metadata": {},
          "execution_count": 16
        },
        {
          "output_type": "stream",
          "name": "stdout",
          "text": [
            "[1, 2, 3, 4, 5]\n",
            "2\n"
          ]
        }
      ]
    },
    {
      "cell_type": "code",
      "source": [
        "#insert method\n",
        "list = [1,2,3,4,5]\n",
        "list.insert(63,36)\n",
        "print(list)"
      ],
      "metadata": {
        "colab": {
          "base_uri": "https://localhost:8080/"
        },
        "id": "tGg5yRrkJVNG",
        "outputId": "8818ba1d-44cd-45a6-cb73-12128f5c6fa3"
      },
      "execution_count": 21,
      "outputs": [
        {
          "output_type": "stream",
          "name": "stdout",
          "text": [
            "[1, 2, 3, 4, 5, 36]\n"
          ]
        }
      ]
    },
    {
      "cell_type": "code",
      "source": [
        "#pop method\n",
        "list = [1,2,3,4,5]\n",
        "print(list.pop())"
      ],
      "metadata": {
        "colab": {
          "base_uri": "https://localhost:8080/"
        },
        "id": "FRXuH6HGKDyT",
        "outputId": "c701c6a1-e217-4e8b-b9cc-cad3243462ea"
      },
      "execution_count": 22,
      "outputs": [
        {
          "output_type": "stream",
          "name": "stdout",
          "text": [
            "5\n"
          ]
        }
      ]
    },
    {
      "cell_type": "code",
      "source": [
        "#remove method\n",
        "list= [1,2,3,4,5]\n",
        "print(list)\n",
        "list.remove(3)\n",
        "print(list)"
      ],
      "metadata": {
        "colab": {
          "base_uri": "https://localhost:8080/"
        },
        "id": "eUNiGiGrKQaM",
        "outputId": "8b23a79b-da68-4081-92ff-4bff230ca3b4"
      },
      "execution_count": 24,
      "outputs": [
        {
          "output_type": "stream",
          "name": "stdout",
          "text": [
            "[1, 2, 3, 4, 5]\n",
            "[1, 2, 4, 5]\n"
          ]
        }
      ]
    },
    {
      "cell_type": "code",
      "source": [
        "#sorting list\n",
        "list = [5,3,1,6,3,7]\n",
        "list.sort()\n",
        "print(list)"
      ],
      "metadata": {
        "colab": {
          "base_uri": "https://localhost:8080/"
        },
        "id": "O8Y30tgZKia_",
        "outputId": "4d547f62-56bd-41b0-9063-f10d3af3ef58"
      },
      "execution_count": 26,
      "outputs": [
        {
          "output_type": "stream",
          "name": "stdout",
          "text": [
            "[1, 3, 3, 5, 6, 7]\n"
          ]
        }
      ]
    },
    {
      "cell_type": "code",
      "source": [
        "#reversing list\n",
        "list = [5,4,3,2,1]\n",
        "print(list)\n",
        "list.reverse()\n",
        "print(list)"
      ],
      "metadata": {
        "colab": {
          "base_uri": "https://localhost:8080/"
        },
        "id": "vHAEX-JeK2RF",
        "outputId": "cf19435a-ee2d-4463-9627-427c670a14e1"
      },
      "execution_count": 27,
      "outputs": [
        {
          "output_type": "stream",
          "name": "stdout",
          "text": [
            "[5, 4, 3, 2, 1]\n",
            "[1, 2, 3, 4, 5]\n"
          ]
        }
      ]
    },
    {
      "cell_type": "code",
      "source": [
        "#reverse list using negative slicing\n",
        "list = [5,4,3,2,1]\n",
        "list[::-1]"
      ],
      "metadata": {
        "colab": {
          "base_uri": "https://localhost:8080/"
        },
        "id": "Lo2kOmnTLDaU",
        "outputId": "677fedeb-524a-4102-d762-de5d92c44971"
      },
      "execution_count": 29,
      "outputs": [
        {
          "output_type": "execute_result",
          "data": {
            "text/plain": [
              "[1, 2, 3, 4, 5]"
            ]
          },
          "metadata": {},
          "execution_count": 29
        }
      ]
    },
    {
      "cell_type": "code",
      "source": [
        "#turn every item of list into its square\n",
        "list= [2,3,4,5]\n",
        "list = [i**2 for i in list] #using list comprehension\n",
        "print(list)"
      ],
      "metadata": {
        "colab": {
          "base_uri": "https://localhost:8080/"
        },
        "id": "4H0_V76DMbBC",
        "outputId": "1b9438dc-d76e-40fd-b49e-61f6dab6e25b"
      },
      "execution_count": 31,
      "outputs": [
        {
          "output_type": "stream",
          "name": "stdout",
          "text": [
            "[4, 9, 16, 25]\n"
          ]
        }
      ]
    },
    {
      "cell_type": "code",
      "source": [
        "#turn every item of list into its square using for loop\n",
        "list = [ 2,3,4,5]\n",
        "res = []\n",
        "for i in list:\n",
        "  res.append(i**2)\n",
        "  print(res)"
      ],
      "metadata": {
        "colab": {
          "base_uri": "https://localhost:8080/"
        },
        "id": "EVEvFZvKM3DS",
        "outputId": "2951fcff-0c31-40c0-837a-6e4d33f69685"
      },
      "execution_count": 36,
      "outputs": [
        {
          "output_type": "stream",
          "name": "stdout",
          "text": [
            "[4]\n",
            "[4, 9]\n",
            "[4, 9, 16]\n",
            "[4, 9, 16, 25]\n"
          ]
        }
      ]
    },
    {
      "cell_type": "code",
      "source": [
        "#concatenate following list in given order\n",
        "list1 = [\"hello\", \"take\"]\n",
        "list2 = [\"dear\",\"sir\"]\n",
        "res = [x + y for x in list1 for y in list2]\n",
        "print(res)"
      ],
      "metadata": {
        "colab": {
          "base_uri": "https://localhost:8080/"
        },
        "id": "V0a0Wqu2Njlb",
        "outputId": "547f001e-4999-4b79-eac9-30a3e4eb71c6"
      },
      "execution_count": 41,
      "outputs": [
        {
          "output_type": "stream",
          "name": "stdout",
          "text": [
            "['hellodear', 'hellosir', 'takedear', 'takesir']\n"
          ]
        }
      ]
    },
    {
      "cell_type": "code",
      "source": [
        "#iterate both lists simultaneously\n",
        "list1= [1,2,3,4,5]\n",
        "list2 = [10,20,30,40,50]\n",
        "for x,y in zip(list1,list2):\n",
        "  print(x,y)"
      ],
      "metadata": {
        "colab": {
          "base_uri": "https://localhost:8080/"
        },
        "id": "Ll8vUk2mOiQZ",
        "outputId": "43815976-672c-4711-f988-2f3d0a58b473"
      },
      "execution_count": 42,
      "outputs": [
        {
          "output_type": "stream",
          "name": "stdout",
          "text": [
            "1 10\n",
            "2 20\n",
            "3 30\n",
            "4 40\n",
            "5 50\n"
          ]
        }
      ]
    },
    {
      "cell_type": "code",
      "source": [
        " list1 = [10, 20, [300, 400, [5000, 6000], 500], 30, 40]\n",
        "\n",
        "# understand indexing\n",
        "# list1[0] = 10\n",
        "# list1[1] = 20\n",
        "# list1[2] = [300, 400, [5000, 6000], 500]\n",
        "# list1[2][2] = [5000, 6000]\n",
        "# list1[2][2][1] = 6000\n",
        "\n",
        "# solution\n",
        "list1[2][2].append(7000)\n",
        "print(list1)\n"
      ],
      "metadata": {
        "colab": {
          "base_uri": "https://localhost:8080/"
        },
        "id": "L742mAGQO3dz",
        "outputId": "ad042d35-2ec8-4d7c-a3f4-d27022d1def6"
      },
      "execution_count": 55,
      "outputs": [
        {
          "output_type": "stream",
          "name": "stdout",
          "text": [
            "[10, 20, [300, 400, [5000, 6000, 7000], 500], 30, 40]\n"
          ]
        }
      ]
    },
    {
      "cell_type": "code",
      "source": [
        "list1 = [\"a\", \"b\", [\"c\", [\"d\", \"e\", [\"f\", \"g\"], \"k\"], \"l\"], \"m\", \"n\"]\n",
        "sub_list = [\"h\", \"i\", \"j\"]\n",
        "\n",
        "# understand indexing\n",
        "# list1[2] = ['c', ['d', 'e', ['f', 'g'], 'k'], 'l']\n",
        "# list1[2][1] = ['d', 'e', ['f', 'g'], 'k']\n",
        "# list1[2][1][2] = ['f', 'g']\n",
        "\n",
        "# solution\n",
        "list1[2][1][2].extend(sub_list)\n",
        "print(list1)"
      ],
      "metadata": {
        "colab": {
          "base_uri": "https://localhost:8080/"
        },
        "id": "g14yFIgfQxxs",
        "outputId": "467cf35e-bc27-4cc0-e38c-b2ed587239ea"
      },
      "execution_count": 56,
      "outputs": [
        {
          "output_type": "stream",
          "name": "stdout",
          "text": [
            "['a', 'b', ['c', ['d', 'e', ['f', 'g', 'h', 'i', 'j'], 'k'], 'l'], 'm', 'n']\n"
          ]
        }
      ]
    },
    {
      "cell_type": "code",
      "source": [
        "list1 = [5, 10, 15, 20, 25, 50, 20]\n",
        "\n",
        "# get the first occurrence index\n",
        "index = list1.index(20)\n",
        "\n",
        "# update item present at location\n",
        "list1[index] = 200\n",
        "print(list1)"
      ],
      "metadata": {
        "colab": {
          "base_uri": "https://localhost:8080/"
        },
        "id": "1n6uOhVgRS5a",
        "outputId": "9fa38938-26bc-4f56-ad9e-37c9ab95d636"
      },
      "execution_count": 57,
      "outputs": [
        {
          "output_type": "stream",
          "name": "stdout",
          "text": [
            "[5, 10, 15, 200, 25, 50, 20]\n"
          ]
        }
      ]
    },
    {
      "cell_type": "code",
      "source": [
        "#remove specific item\n",
        "list1 = [5, 20, 15, 20, 25, 50, 20]\n",
        "\n",
        "while 20 in list1:\n",
        "    list1.remove(20)\n",
        "print(list1)"
      ],
      "metadata": {
        "colab": {
          "base_uri": "https://localhost:8080/"
        },
        "id": "KJ-j3GD3RoXj",
        "outputId": "298042cb-1464-4235-9457-a2a86f0e0f92"
      },
      "execution_count": 58,
      "outputs": [
        {
          "output_type": "stream",
          "name": "stdout",
          "text": [
            "[5, 15, 25, 50]\n"
          ]
        }
      ]
    }
  ]
}
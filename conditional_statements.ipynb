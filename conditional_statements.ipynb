{
  "nbformat": 4,
  "nbformat_minor": 0,
  "metadata": {
    "colab": {
      "provenance": []
    },
    "kernelspec": {
      "name": "python3",
      "display_name": "Python 3"
    },
    "language_info": {
      "name": "python"
    }
  },
  "cells": [
    {
      "cell_type": "code",
      "execution_count": null,
      "metadata": {
        "colab": {
          "base_uri": "https://localhost:8080/"
        },
        "id": "xP1cCB1EeMYT",
        "outputId": "ee79d74a-91bd-4c92-8ff5-7f6058c919e0"
      },
      "outputs": [
        {
          "output_type": "stream",
          "name": "stdout",
          "text": [
            "Enter your age : 17\n",
            "You are not eligible for vote\n"
          ]
        }
      ],
      "source": [
        "#write a program to determine whether a person is eligible for vote\n",
        "age = int(input(\"Enter your age : \"))\n",
        "if(age>=18):\n",
        "  print(\"You are eligible for vote\")\n",
        "else:\n",
        "  print(\"You are not eligible for vote\")\n"
      ]
    },
    {
      "cell_type": "code",
      "source": [
        "#write a program to determine whether a person is eligible for vote or not if not print how many years are left to be eligible\n",
        "age = int(input(\"Enter your age : \"))\n",
        "if(age>=18):\n",
        "  print(\"You are eligibke for vote\")\n",
        "else:\n",
        "  years = 18-age\n",
        "  print(\" please wait for \" + str (years) +\" years \")"
      ],
      "metadata": {
        "colab": {
          "base_uri": "https://localhost:8080/"
        },
        "id": "tAZVEOIPf8Vk",
        "outputId": "c7b7c345-3721-44f7-98be-d9e8bd72d281"
      },
      "execution_count": null,
      "outputs": [
        {
          "output_type": "stream",
          "name": "stdout",
          "text": [
            "Enter your age : 15\n",
            " please wait for 3 years \n"
          ]
        }
      ]
    },
    {
      "cell_type": "code",
      "source": [
        "#find largest among 2 numbers\n",
        "a = int(input(\"Enter first number : \"))\n",
        "b = int(input(\"Enter second number : \"))\n",
        "if(a>b):\n",
        "  large = a\n",
        "else :\n",
        "  (a<b)\n",
        "  large = b\n",
        "  print(\"Large number is \"+ str(large))"
      ],
      "metadata": {
        "colab": {
          "base_uri": "https://localhost:8080/"
        },
        "id": "8XFodZlAg3Ri",
        "outputId": "72b152bd-bce3-4ef8-9f70-ba7566fb75ed"
      },
      "execution_count": null,
      "outputs": [
        {
          "output_type": "stream",
          "name": "stdout",
          "text": [
            "Enter first number : 4\n",
            "Enter second number : 6\n",
            "Large number is 6\n"
          ]
        }
      ]
    },
    {
      "cell_type": "code",
      "source": [
        " #write a program to find greatest number among 3 numbers\n",
        "a = int(input(\"Enter first number : \"))\n",
        "b = int(input(\"Enter second number : \"))\n",
        "c = int(input(\"Enter third number : \"))\n",
        "if(a>b and a>c):\n",
        "  large = a\n",
        "if(b>a and b>c):\n",
        "  large=b\n",
        "else:\n",
        "  large = c\n",
        "  print(\"Large number is \" + str (large))\n"
      ],
      "metadata": {
        "colab": {
          "base_uri": "https://localhost:8080/"
        },
        "id": "-5UgukGihia9",
        "outputId": "9126a632-569e-4ef7-dc97-a47c1afbf468"
      },
      "execution_count": null,
      "outputs": [
        {
          "output_type": "stream",
          "name": "stdout",
          "text": [
            "Enter first number : 9\n",
            "Enter second number : 7\n",
            "Enter third number : 36\n",
            "Large number is 36\n"
          ]
        }
      ]
    }
  ]
}
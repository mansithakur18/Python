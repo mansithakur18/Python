{
  "nbformat": 4,
  "nbformat_minor": 0,
  "metadata": {
    "colab": {
      "provenance": []
    },
    "kernelspec": {
      "name": "python3",
      "display_name": "Python 3"
    },
    "language_info": {
      "name": "python"
    }
  },
  "cells": [
    {
      "cell_type": "code",
      "execution_count": null,
      "metadata": {
        "colab": {
          "base_uri": "https://localhost:8080/"
        },
        "id": "jGxpLgYg_dJg",
        "outputId": "a5bedd4a-da8f-4ccf-b6aa-06799d88ff49"
      },
      "outputs": [
        {
          "output_type": "stream",
          "name": "stdout",
          "text": [
            "buddy\n",
            "5\n",
            "buddy is barking \n"
          ]
        }
      ],
      "source": [
        "class dog:\n",
        "    def __init__(self,name,age):\n",
        "        self.name=name\n",
        "        self.age=age\n",
        "    def bark(self):\n",
        "      return(F\"{self.name} is barking \")\n",
        "my_dog = dog(\"buddy\", 5)\n",
        "print(my_dog.name)\n",
        "print(my_dog.age)\n",
        "print(my_dog.bark())"
      ]
    },
    {
      "cell_type": "code",
      "source": [
        "class person:\n",
        "    def __init__(self,name,age):\n",
        "        self.name=name\n",
        "        self.age=age\n",
        "    def greet(self):\n",
        "        return(F\"Hello!, my name is {self.name}  and I am {self.age} years old\")\n",
        "person1 = person(\"alice\", 30)\n",
        "print(person1.name)\n",
        "print(person1.age)\n",
        "print(person1.greet())"
      ],
      "metadata": {
        "colab": {
          "base_uri": "https://localhost:8080/"
        },
        "id": "Mam4CHXNA917",
        "outputId": "a01277d4-e749-4cdc-a30b-07426af505ed"
      },
      "execution_count": null,
      "outputs": [
        {
          "output_type": "stream",
          "name": "stdout",
          "text": [
            "alice\n",
            "30\n",
            "Hello!, my name is alice  and I am 30 years old\n"
          ]
        }
      ]
    },
    {
      "cell_type": "code",
      "source": [
        "#program to create class car which can store brand and model and print brand and mode\n",
        "class car:\n",
        "  def __init__(self,brand,model):\n",
        "    self.brand = brand\n",
        "    self.model= model\n",
        "  def intro(self):\n",
        "    return(F\"{self.brand} is my new car and model of my car is {self.model}\")\n",
        "c1 = car(\"porsche\", 911)\n",
        "print(c1.brand)\n",
        "print(c1.model)\n",
        "print(c1.intro())"
      ],
      "metadata": {
        "colab": {
          "base_uri": "https://localhost:8080/"
        },
        "id": "o47I2jv7Bt_x",
        "outputId": "e4e27d3a-1e82-4398-d093-e27221b8bb60"
      },
      "execution_count": null,
      "outputs": [
        {
          "output_type": "stream",
          "name": "stdout",
          "text": [
            "porsche\n",
            "911\n",
            "porsche is my new car and model of my car is 911\n"
          ]
        }
      ]
    },
    {
      "cell_type": "code",
      "source": [
        "class parent:\n",
        "  #parent class definition\n",
        "  def __init__(self,name):\n",
        "    self.name=name\n",
        "  def greet(self):\n",
        "    return(F\"Hello, {self.name}\")\n",
        "class child(parent):\n",
        "  #child class definition\n",
        "   def __init__(self,name,age):\n",
        "  #calling constructor of the parent class\n",
        "      super().__init__(name)\n",
        "      self.age = age\n",
        "   def display_age(self):\n",
        "        print(F\"{self.name} is {self.age} years old\")\n",
        "a = child(\"alice\", 20)\n",
        "print(a.name)\n",
        "print(a.age)\n",
        "print(a.greet())\n",
        "print(a.display_age())\n",
        "\n",
        "\n",
        "\n"
      ],
      "metadata": {
        "colab": {
          "base_uri": "https://localhost:8080/"
        },
        "id": "Vh5ypgEvDQ-t",
        "outputId": "9132c978-011b-478e-db0f-f0cdd1d8ab74"
      },
      "execution_count": null,
      "outputs": [
        {
          "output_type": "stream",
          "name": "stdout",
          "text": [
            "alice\n",
            "20\n",
            "Hello, alice\n",
            "alice is 20 years old\n",
            "None\n"
          ]
        }
      ]
    },
    {
      "cell_type": "code",
      "source": [
        "#multilevel inheritance\n",
        "class A:\n",
        "  def display(self):\n",
        "    print(\"class A\")\n",
        "class B:\n",
        "  def show(self):\n",
        "    print(\"class B\")\n",
        "class C(A,B):\n",
        "  def display(self):\n",
        "    print(\"class C\")\n",
        "class D(C):\n",
        "  def display(self):\n",
        "    print(\"class D\")\n",
        "d = D()\n",
        "d.display()\n",
        "d.show()\n",
        "d.display ()\n",
        "d.display ()"
      ],
      "metadata": {
        "colab": {
          "base_uri": "https://localhost:8080/"
        },
        "id": "UG8vF22VFxKE",
        "outputId": "c0bdf45f-3418-4277-a3ba-01118e4a7577"
      },
      "execution_count": null,
      "outputs": [
        {
          "output_type": "stream",
          "name": "stdout",
          "text": [
            "class D\n",
            "class B\n",
            "class D\n",
            "class D\n"
          ]
        }
      ]
    },
    {
      "cell_type": "code",
      "source": [
        "from os import name\n",
        "class parent :\n",
        "  def show(self):\n",
        "    print(\"parent class method\")\n",
        "class child(parent):\n",
        "  def show(self):\n",
        "    print(\"child class method\")\n",
        "class animal :\n",
        "  def __init__(self,name):\n",
        "    self.name = name\n",
        "  def speak(self):\n",
        "      print(F\"{self.name} makes a sound\")\n",
        "class dog(animal):\n",
        "  def speak(self):\n",
        "    print(F\"{self.name} barks\")\n",
        "a= animal(\"generic animal\")\n",
        "a.speak()\n",
        "d = dog(\"buddy\")\n",
        "d.speak()\n",
        "\n"
      ],
      "metadata": {
        "colab": {
          "base_uri": "https://localhost:8080/"
        },
        "id": "OGCumDn-Heyd",
        "outputId": "b9673ca1-a122-404a-e180-5ac327cce4df"
      },
      "execution_count": null,
      "outputs": [
        {
          "output_type": "stream",
          "name": "stdout",
          "text": [
            "generic animal makes a sound\n",
            "buddy barks\n"
          ]
        }
      ]
    },
    {
      "cell_type": "code",
      "source": [
        "#Encapsulation\n",
        "#private members\n",
        "class base :\n",
        "  def __init__(self):\n",
        "    self.a = \"PCU\"\n",
        "    self.__c = \"PCU1\"\n",
        "class derived(base):\n",
        "  def __init__(self):\n",
        "    base.__init__(self)\n",
        "    print(\"Calling private member of base class :\")\n",
        "    print(self.__c)\n",
        "obj1 = base()\n",
        "print(obj1.a)"
      ],
      "metadata": {
        "colab": {
          "base_uri": "https://localhost:8080/"
        },
        "id": "pcaoN_8kJ5Rw",
        "outputId": "84753a99-23bb-408d-a535-deaa84b6e38f"
      },
      "execution_count": null,
      "outputs": [
        {
          "output_type": "stream",
          "name": "stdout",
          "text": [
            "PCU\n"
          ]
        }
      ]
    },
    {
      "cell_type": "code",
      "source": [
        "#Encapsulation\n",
        "#protected members\n",
        "class base:\n",
        "  def __init__(self):\n",
        "     self._a =2\n",
        "class derived(base):\n",
        "  def __init__(self):\n",
        "    base.__init__(self)\n",
        "    print(\"calling protected member of base class : \", self._a)\n",
        "    self._a = 3\n",
        "    print(\"Calling modified protected memeber outside class :\", self._a)\n",
        "obj1 = derived()\n",
        "obj2= base()\n",
        "print(\"asseccng protected memeber of obj1\", obj1._a)\n",
        "print(\"asseccng protected memeber of obj2\", obj2._a)"
      ],
      "metadata": {
        "colab": {
          "base_uri": "https://localhost:8080/"
        },
        "id": "4nckO1CRJK9T",
        "outputId": "4bfa7806-60b2-460c-e55c-6550a065a507"
      },
      "execution_count": null,
      "outputs": [
        {
          "output_type": "stream",
          "name": "stdout",
          "text": [
            "calling protected member of base class :  2\n",
            "Calling modified protected memeber outside class : 3\n",
            "asseccng protected memeber of obj1 3\n",
            "asseccng protected memeber of obj2 2\n"
          ]
        }
      ]
    }
  ]
}
{
  "nbformat": 4,
  "nbformat_minor": 0,
  "metadata": {
    "colab": {
      "provenance": []
    },
    "kernelspec": {
      "name": "python3",
      "display_name": "Python 3"
    },
    "language_info": {
      "name": "python"
    }
  },
  "cells": [
    {
      "cell_type": "code",
      "execution_count": null,
      "metadata": {
        "colab": {
          "base_uri": "https://localhost:8080/"
        },
        "id": "6imblkol7BPS",
        "outputId": "467cf24e-3604-4d53-ee8d-f23ba6c3b5fa"
      },
      "outputs": [
        {
          "output_type": "stream",
          "name": "stdout",
          "text": [
            "hello,mansi\n"
          ]
        }
      ],
      "source": [
        "#code using functions\n",
        "def greet(name):\n",
        "  print(f\"hello,{name}\")\n",
        "greet(\"mansi\")"
      ]
    },
    {
      "cell_type": "code",
      "source": [
        "#write a program to print prime numbers from 2 to 101\n",
        "def prime():\n",
        "  for i in range(2,101):\n",
        "    for num in range(2,i):\n",
        "      if i%num==0:\n",
        "       break\n",
        "    else:\n",
        "        print(i)\n",
        "prime()\n"
      ],
      "metadata": {
        "colab": {
          "base_uri": "https://localhost:8080/"
        },
        "id": "kNsQ8Zbj7rZD",
        "outputId": "2d33c642-657f-4efc-ebd0-7f2af2bd376d"
      },
      "execution_count": null,
      "outputs": [
        {
          "output_type": "stream",
          "name": "stdout",
          "text": [
            "2\n",
            "3\n",
            "5\n",
            "7\n",
            "11\n",
            "13\n",
            "17\n",
            "19\n",
            "23\n",
            "29\n",
            "31\n",
            "37\n",
            "41\n",
            "43\n",
            "47\n",
            "53\n",
            "59\n",
            "61\n",
            "67\n",
            "71\n",
            "73\n",
            "79\n",
            "83\n",
            "89\n",
            "97\n"
          ]
        }
      ]
    },
    {
      "cell_type": "code",
      "source": [
        "#write a program to find the given number is prime or not\n",
        "def prime_or_not(num):\n",
        "  if num > 1:\n",
        "    for i in range(2,num):\n",
        "      if num%i==0 :\n",
        "        print(f\"{num} is not prime number\")\n",
        "      else:\n",
        "        print(f\"{num} is prime number\")\n",
        "        break\n",
        "    else:\n",
        "        print(f\"{num} is not prime\")\n",
        "number = int(input(\"Enter a number : \"))\n",
        "prime_or_not(number)\n",
        "\n",
        "\n",
        "\n"
      ],
      "metadata": {
        "colab": {
          "base_uri": "https://localhost:8080/"
        },
        "id": "vUsVb0Yo8YjS",
        "outputId": "c834a449-7fa5-4934-e45e-da9e7855e127"
      },
      "execution_count": null,
      "outputs": [
        {
          "output_type": "stream",
          "name": "stdout",
          "text": [
            "Enter a number : 7\n",
            "7 is prime number\n"
          ]
        }
      ]
    },
    {
      "cell_type": "code",
      "source": [
        "#built a stack\n",
        "stack=[]\n",
        "def push(stack,item):\n",
        "  stack.append(item)\n",
        "  print(f\"item pushed in stack\")\n",
        "def pop(stack):\n",
        "  if not is_empty(stack):\n",
        "    item = stack.pop()\n",
        "    print(f\"pop {item} from peek \")\n",
        "    return item\n",
        "  else:\n",
        "    print(\"Stack is empty\")\n",
        "    return none\n",
        "def is_empty(stack):\n",
        "    return len(stack)==0\n",
        "def size(stack):\n",
        "    return len(stack)\n",
        "def peek(stack):\n",
        "  if not is_empty(stack):\n",
        "    return stack[-1]\n",
        "  else:\n",
        "    print(\"Stack is empty\")\n",
        "    return none\n",
        "\n",
        "\n",
        "push(stack,10)\n",
        "push(stack,20)\n",
        "push(stack,30)\n",
        "peek(stack)\n",
        "pop(stack)\n"
      ],
      "metadata": {
        "colab": {
          "base_uri": "https://localhost:8080/"
        },
        "id": "REeKJJHZAJZs",
        "outputId": "e481f8f9-fb35-4795-c302-f74fc7d8528a"
      },
      "execution_count": null,
      "outputs": [
        {
          "output_type": "stream",
          "name": "stdout",
          "text": [
            "item pushed in stack\n",
            "item pushed in stack\n",
            "item pushed in stack\n",
            "pop 30 from peek \n"
          ]
        },
        {
          "output_type": "execute_result",
          "data": {
            "text/plain": [
              "30"
            ]
          },
          "metadata": {},
          "execution_count": 61
        }
      ]
    },
    {
      "cell_type": "code",
      "source": [
        "#bubble sort\n",
        "def bubble_sort(arr):\n",
        "  n = len(arr)\n",
        "  for i in range (n):\n",
        "    for j in range(0, n-i-1):\n",
        "      if arr[j]> arr[j+1]:\n",
        "        arr[j], arr[j+1] = arr[j+1], arr[j]\n",
        "a = [63,30,20,45,18]\n",
        "print(\"Original array\",a)\n",
        "bubble_sort(a)\n",
        "print(\"Sorted array\",a)\n"
      ],
      "metadata": {
        "colab": {
          "base_uri": "https://localhost:8080/"
        },
        "id": "k1_ykV6JEwF5",
        "outputId": "f72a9b5a-7aa9-4d49-d5d9-98dff5cdd376"
      },
      "execution_count": null,
      "outputs": [
        {
          "output_type": "stream",
          "name": "stdout",
          "text": [
            "Original array [63, 30, 20, 45, 18]\n",
            "Sorted array [18, 20, 30, 45, 63]\n"
          ]
        }
      ]
    }
  ]
}
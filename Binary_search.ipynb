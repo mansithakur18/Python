{
  "nbformat": 4,
  "nbformat_minor": 0,
  "metadata": {
    "colab": {
      "provenance": []
    },
    "kernelspec": {
      "name": "python3",
      "display_name": "Python 3"
    },
    "language_info": {
      "name": "python"
    }
  },
  "cells": [
    {
      "cell_type": "code",
      "execution_count": 1,
      "metadata": {
        "colab": {
          "base_uri": "https://localhost:8080/"
        },
        "id": "SNeHoQluKlxK",
        "outputId": "17f9db9c-31e1-42d4-ef51-436d2f19e904"
      },
      "outputs": [
        {
          "output_type": "stream",
          "name": "stdout",
          "text": [
            "[10, 20, 60, 50, 88, 63, 45, 18, 2]\n",
            "Sorted list :  [2, 10, 18, 20, 45, 50, 60, 63, 88]\n",
            "Enter the element you want to search in this list : 45\n",
            "Element found at index :  4\n"
          ]
        }
      ],
      "source": [
        "#Binary search\n",
        "import math\n",
        "list = [10,20,60,50,88,63,45,18,2]\n",
        "print(list)\n",
        "list.sort()\n",
        "print(\"Sorted list : \",list)\n",
        "target = int(input(\"Enter the element you want to search in this list : \"))\n",
        "left = 0\n",
        "right = len(list)-1\n",
        "while (left<=right):\n",
        "    mid =((left+right)//2)\n",
        "    if (list[mid]==target):\n",
        "        print(\"Element found at index : \",mid)\n",
        "        break\n",
        "    elif (list[mid]<target):\n",
        "        left = mid+1\n",
        "    else:\n",
        "        right = mid-1\n",
        "else:\n",
        "    print(\"Element not found\")"
      ]
    }
  ]
}
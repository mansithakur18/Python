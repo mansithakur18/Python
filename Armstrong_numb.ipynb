{
  "nbformat": 4,
  "nbformat_minor": 0,
  "metadata": {
    "colab": {
      "provenance": []
    },
    "kernelspec": {
      "name": "python3",
      "display_name": "Python 3"
    },
    "language_info": {
      "name": "python"
    }
  },
  "cells": [
    {
      "cell_type": "code",
      "execution_count": null,
      "metadata": {
        "colab": {
          "base_uri": "https://localhost:8080/"
        },
        "id": "NThJp5yLu34K",
        "outputId": "8d21c8e0-c757-45d1-92ba-2f224427c8be"
      },
      "outputs": [
        {
          "output_type": "stream",
          "name": "stdout",
          "text": [
            "Armstrong numbers between 1 and 1000 are:\n",
            "1\n",
            "2\n",
            "3\n",
            "4\n",
            "5\n",
            "6\n",
            "7\n",
            "8\n",
            "9\n",
            "153\n",
            "370\n",
            "371\n",
            "407\n"
          ]
        }
      ],
      "source": [
        "#write a program to display all armstrong numbers from 1 to 1000\n",
        "\n",
        "#function to check if a num is armstrong or not\n",
        "def is_armstrong(num):\n",
        "  #convert a number to a string to easily get each digit\n",
        "  digits = str(num)\n",
        "  num_digits = len(digits)\n",
        "  armstrong_sum = sum(int(digit)**num_digits for digit in digits)\n",
        "  return armstrong_sum == num\n",
        "print(\"Armstrong numbers between 1 and 1000 are:\")\n",
        "for num in range(1,1000):\n",
        "  if is_armstrong(num):\n",
        "    print(num)"
      ]
    },
    {
      "cell_type": "code",
      "source": [
        "#armstrong\n",
        "def is_armstrong(num):\n",
        "  digits = str(num)\n",
        "  pow = len(digits)\n",
        "  armstrong_sum = sum(int(digit)**pow for digit in digits)\n",
        "  return armstrong_sum ==num\n",
        "print(\"Armstrong numbers between 1 and 1000 are:\")\n",
        "for num in range(1,1000):\n",
        "  if is_armstrong(num):\n",
        "    print(num)\n",
        "\n"
      ],
      "metadata": {
        "id": "W_9pfUnITT-D",
        "colab": {
          "base_uri": "https://localhost:8080/"
        },
        "outputId": "bccf3bab-610b-4a34-fbd7-689a3f9d9cfb"
      },
      "execution_count": null,
      "outputs": [
        {
          "output_type": "stream",
          "name": "stdout",
          "text": [
            "Armstrong numbers between 1 and 1000 are:\n",
            "1\n",
            "2\n",
            "3\n",
            "4\n",
            "5\n",
            "6\n",
            "7\n",
            "8\n",
            "9\n",
            "153\n",
            "370\n",
            "371\n",
            "407\n"
          ]
        }
      ]
    }
  ]
}
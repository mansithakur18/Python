{
  "nbformat": 4,
  "nbformat_minor": 0,
  "metadata": {
    "colab": {
      "provenance": []
    },
    "kernelspec": {
      "name": "python3",
      "display_name": "Python 3"
    },
    "language_info": {
      "name": "python"
    }
  },
  "cells": [
    {
      "cell_type": "code",
      "execution_count": 2,
      "metadata": {
        "colab": {
          "base_uri": "https://localhost:8080/"
        },
        "id": "dLUZpSbaMSNo",
        "outputId": "e60c7bc2-0c14-4c11-e40a-d0b5ac09bd86"
      },
      "outputs": [
        {
          "output_type": "stream",
          "name": "stdout",
          "text": [
            "Test 1 : Valid inputs\n",
            "Test 2 : Division by zero\n",
            "Error: Division by zero is not allowed.\n",
            "Test 3 : Invalid input types\n",
            "Error: Invalid input types. Please enter valid numbers.\n",
            "Test 4 : Invalid input\n",
            "Error: Invalid input types. Please enter valid numbers.\n",
            "Test 5 : Unexpected error\n",
            "Error: Invalid input types. Please enter valid numbers.\n"
          ]
        }
      ],
      "source": [
        "def divide_numbers(num1, num2):\n",
        "  try:\n",
        "    result = num1 / num2\n",
        "    return result\n",
        "  except ZeroDivisionError:\n",
        "    print(\"Error: Division by zero is not allowed.\")\n",
        "  except TypeError:\n",
        "    print(\"Error: Invalid input types. Please enter valid numbers.\")\n",
        "  except ValueError:\n",
        "    print(\"Error: Invalid input. Please enter valid numbers.\")\n",
        "  except Exception as e:\n",
        "    print(f\"An unexpected error occured: {e}\")\n",
        "print(\"Test 1 : Valid inputs\")\n",
        "divide_numbers(10,2)\n",
        "print(\"Test 2 : Division by zero\")\n",
        "divide_numbers(10,0)\n",
        "print(\"Test 3 : Invalid input types\")\n",
        "divide_numbers(\"10\",2)\n",
        "print(\"Test 4 : Invalid input\")\n",
        "divide_numbers(10,\"2\")\n",
        "print(\"Test 5 : Unexpected error\")\n",
        "divide_numbers(10,None)"
      ]
    }
  ]
}
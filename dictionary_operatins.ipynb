{
  "nbformat": 4,
  "nbformat_minor": 0,
  "metadata": {
    "colab": {
      "provenance": []
    },
    "kernelspec": {
      "name": "python3",
      "display_name": "Python 3"
    },
    "language_info": {
      "name": "python"
    }
  },
  "cells": [
    {
      "cell_type": "code",
      "execution_count": 1,
      "metadata": {
        "colab": {
          "base_uri": "https://localhost:8080/"
        },
        "id": "ujWvajmeAWgh",
        "outputId": "15b00a00-d6e3-4dc2-a9b6-1f0a9cbc6300"
      },
      "outputs": [
        {
          "output_type": "stream",
          "name": "stdout",
          "text": [
            "{1: 'Apple', 2: 'mango', 3: 'Pineapple', 4: 'Cherry'}\n"
          ]
        }
      ],
      "source": [
        "my_dict = {1: \"Apple\", 2: \"mango\", 3: \"Pineapple\", 4: \"Cherry\"}\n",
        "print(my_dict)"
      ]
    },
    {
      "cell_type": "code",
      "source": [
        "#add elemnt in dictionary\n",
        "my_dict = {1: \"Apple\", 2: \"mango\", 3: \"Pineapple\", 4: \"Cherry\"}\n",
        "my_dict[5]= \"banana\"\n",
        "my_dict[6]= \"orange\"\n",
        "print(my_dict)"
      ],
      "metadata": {
        "colab": {
          "base_uri": "https://localhost:8080/"
        },
        "id": "Bu41mPh4A2Yf",
        "outputId": "645820ae-3669-4a28-d64a-b52f2d2aa7de"
      },
      "execution_count": 2,
      "outputs": [
        {
          "output_type": "stream",
          "name": "stdout",
          "text": [
            "{1: 'Apple', 2: 'mango', 3: 'Pineapple', 4: 'Cherry', 5: 'banana', 6: 'orange'}\n"
          ]
        }
      ]
    },
    {
      "cell_type": "code",
      "source": [
        "#changing dictionary element\n",
        "my_dict = {1: \"Apple\", 2: \"mango\", 3: \"Pineapple\", 4: \"Cherry\"}\n",
        "my_dict[3]= \"watermelon\"\n",
        "print(my_dict)"
      ],
      "metadata": {
        "colab": {
          "base_uri": "https://localhost:8080/"
        },
        "id": "YNUKPWlOBHoN",
        "outputId": "8f62a18d-f323-467a-ac16-81c4b0ed327f"
      },
      "execution_count": 3,
      "outputs": [
        {
          "output_type": "stream",
          "name": "stdout",
          "text": [
            "{1: 'Apple', 2: 'mango', 3: 'watermelon', 4: 'Cherry'}\n"
          ]
        }
      ]
    },
    {
      "cell_type": "code",
      "source": [
        "#removing element from dictionary using pop method\n",
        "my_dict = {1: \"Apple\", 2: \"mango\", 3: \"Pineapple\", 4: \"Cherry\"}\n",
        "my_dict.pop(2)\n",
        "print(my_dict)"
      ],
      "metadata": {
        "colab": {
          "base_uri": "https://localhost:8080/"
        },
        "id": "qZeNgQiHBVcD",
        "outputId": "06325760-c670-4b6e-a145-1ef17094822c"
      },
      "execution_count": 4,
      "outputs": [
        {
          "output_type": "stream",
          "name": "stdout",
          "text": [
            "{1: 'Apple', 3: 'Pineapple', 4: 'Cherry'}\n"
          ]
        }
      ]
    },
    {
      "cell_type": "code",
      "source": [
        "#removing element from dictionary using pop item method\n",
        "my_dict = {1: \"Apple\", 2: \"mango\", 3: \"Pineapple\", 4: \"Cherry\"}\n",
        "my_dict.popitem()\n",
        "print(my_dict)"
      ],
      "metadata": {
        "colab": {
          "base_uri": "https://localhost:8080/"
        },
        "id": "WzViQk6PBl5S",
        "outputId": "33bb5fd6-22f1-4a3e-f4aa-c5ee8bd0430d"
      },
      "execution_count": 6,
      "outputs": [
        {
          "output_type": "stream",
          "name": "stdout",
          "text": [
            "{1: 'Apple', 2: 'mango', 3: 'Pineapple'}\n"
          ]
        }
      ]
    },
    {
      "cell_type": "code",
      "source": [
        "#removing elemnt form dictionary using clear method\n",
        "my_dict = {1: \"Apple\", 2: \"mango\", 3: \"Pineapple\", 4: \"Cherry\"}\n",
        "my_dict.clear()\n",
        "print(my_dict)"
      ],
      "metadata": {
        "colab": {
          "base_uri": "https://localhost:8080/"
        },
        "id": "CHRhFI8WB8lZ",
        "outputId": "8b300a63-8a69-45f8-9c84-02965163764f"
      },
      "execution_count": 7,
      "outputs": [
        {
          "output_type": "stream",
          "name": "stdout",
          "text": [
            "{}\n"
          ]
        }
      ]
    },
    {
      "cell_type": "code",
      "source": [
        "#removing elements from dictionary using del method\n",
        "my_dict = {1: \"Apple\", 2: \"mango\", 3: \"Pineapple\", 4: \"Cherry\"}\n",
        "del my_dict[1]\n",
        "print(my_dict)"
      ],
      "metadata": {
        "colab": {
          "base_uri": "https://localhost:8080/"
        },
        "id": "MQ-oYFKUCHlU",
        "outputId": "b26f4273-7607-4140-c9d2-cea2fa533adb"
      },
      "execution_count": 9,
      "outputs": [
        {
          "output_type": "stream",
          "name": "stdout",
          "text": [
            "{2: 'mango', 3: 'Pineapple', 4: 'Cherry'}\n"
          ]
        }
      ]
    },
    {
      "cell_type": "code",
      "source": [
        "#convert two lists into a dictionary\n",
        "keys= [\"a\",\"b\",\"c\",\"d\"]\n",
        "value = [100,200,300,400,500]\n",
        "res = dict(zip(keys,value))\n",
        "print(res)"
      ],
      "metadata": {
        "colab": {
          "base_uri": "https://localhost:8080/"
        },
        "id": "zTXm1IkMCpmX",
        "outputId": "662fe656-3279-45d3-9d85-f5f1bac277e7"
      },
      "execution_count": 11,
      "outputs": [
        {
          "output_type": "stream",
          "name": "stdout",
          "text": [
            "{'a': 100, 'b': 200, 'c': 300, 'd': 400}\n"
          ]
        }
      ]
    },
    {
      "cell_type": "code",
      "source": [
        "#merge two dictionaries into one\n",
        "dict1 = {'Ten': 10, 'Twenty': 20, 'Thirty': 30}\n",
        "dict2 = {'Thirty': 30, 'Fourty': 40, 'Fifty': 50}\n",
        "dict3 ={**dict1 , **dict2}\n",
        "print(dict3)"
      ],
      "metadata": {
        "colab": {
          "base_uri": "https://localhost:8080/"
        },
        "id": "ggIbr8dTDM_P",
        "outputId": "6b2adcf5-755d-4b24-ce6c-23d4f4f7ddff"
      },
      "execution_count": 16,
      "outputs": [
        {
          "output_type": "stream",
          "name": "stdout",
          "text": [
            "{'Ten': 10, 'Twenty': 20, 'Thirty': 30, 'Fourty': 40, 'Fifty': 50}\n"
          ]
        }
      ]
    },
    {
      "cell_type": "code",
      "source": [
        "# Print the value of key ‘history’ from the below dict\n",
        "sampleDict = {\n",
        "    \"class\": {\n",
        "        \"student\": {\n",
        "            \"name\": \"Mike\",\n",
        "            \"marks\": {\n",
        "                \"physics\": 70,\n",
        "                \"history\": 80\n",
        "            }\n",
        "        }\n",
        "    }\n",
        "}\n",
        "print(sampleDict['class']['student']['marks']['history'])"
      ],
      "metadata": {
        "colab": {
          "base_uri": "https://localhost:8080/"
        },
        "id": "KhRa0wQhD2Aq",
        "outputId": "ae2e111d-a28b-42d6-eabd-010b18c4a5a9"
      },
      "execution_count": 19,
      "outputs": [
        {
          "output_type": "stream",
          "name": "stdout",
          "text": [
            "80\n"
          ]
        }
      ]
    },
    {
      "cell_type": "code",
      "source": [
        "employees = ['Kelly', 'Emma']\n",
        "defaults = {\"designation\": 'Developer', \"salary\": 8000}\n",
        "\n",
        "res = dict.fromkeys(employees, defaults)\n",
        "print(res)\n",
        "\n",
        "# Individual data\n",
        "print(res[\"Kelly\"])"
      ],
      "metadata": {
        "colab": {
          "base_uri": "https://localhost:8080/"
        },
        "id": "C-ubM1-dEjrq",
        "outputId": "30b2b8ec-7fba-4e7d-a24e-38f3c4b4de6d"
      },
      "execution_count": 20,
      "outputs": [
        {
          "output_type": "stream",
          "name": "stdout",
          "text": [
            "{'Kelly': {'designation': 'Developer', 'salary': 8000}, 'Emma': {'designation': 'Developer', 'salary': 8000}}\n",
            "{'designation': 'Developer', 'salary': 8000}\n"
          ]
        }
      ]
    },
    {
      "cell_type": "code",
      "source": [
        "sampleDict = {\n",
        "  \"name\": \"Kelly\",\n",
        "  \"age\":25,\n",
        "  \"salary\": 8000,\n",
        "  \"city\": \"New york\" }\n",
        "\n",
        "keys = [\"name\", \"salary\"]\n",
        "\n",
        "newDict = {k: sampleDict[k] for k in keys}\n",
        "print(newDict)"
      ],
      "metadata": {
        "colab": {
          "base_uri": "https://localhost:8080/"
        },
        "id": "KgDlQDw6FCi0",
        "outputId": "e3f4b7e6-7072-4561-857f-921a98fd52ee"
      },
      "execution_count": 21,
      "outputs": [
        {
          "output_type": "stream",
          "name": "stdout",
          "text": [
            "{'name': 'Kelly', 'salary': 8000}\n"
          ]
        }
      ]
    },
    {
      "cell_type": "code",
      "source": [
        "#Check if a value exists in a dictionary\n",
        "dict= {1 : 200, 2:300, 3:400} #to check 200 present or not\n",
        "if 200 in dict.values():\n",
        "  print(\"200 present in the dictionary\")"
      ],
      "metadata": {
        "colab": {
          "base_uri": "https://localhost:8080/"
        },
        "id": "TUXGRTUCFL8J",
        "outputId": "47eb93f1-45ba-40a3-d534-272dc368302e"
      },
      "execution_count": 24,
      "outputs": [
        {
          "output_type": "stream",
          "name": "stdout",
          "text": [
            "200 present in the dictionary\n"
          ]
        }
      ]
    },
    {
      "cell_type": "code",
      "source": [
        "#rename key in the dictionary\n",
        "sample_dict = {\n",
        "    \"name\": \"Kelly\",\n",
        "    \"age\": 25,\n",
        "    \"salary\": 8000,\n",
        "    \"city\": \"New york\"\n",
        "}\n",
        "sample_dict[\"location\"] = sample_dict.pop(\"city\")\n",
        "print(sample_dict)"
      ],
      "metadata": {
        "colab": {
          "base_uri": "https://localhost:8080/"
        },
        "id": "bOxXxUbLGDbI",
        "outputId": "95e63885-e2f7-4d33-d17a-4bd67fe79f83"
      },
      "execution_count": 28,
      "outputs": [
        {
          "output_type": "stream",
          "name": "stdout",
          "text": [
            "{'name': 'Kelly', 'age': 25, 'salary': 8000, 'location': 'New york'}\n"
          ]
        }
      ]
    },
    {
      "cell_type": "code",
      "source": [
        "#to get minimum key from the dict\n",
        "sample_dict = {\n",
        "    'Physics': 82,\n",
        "    'Math': 65,\n",
        "    'history': 75\n",
        "}\n",
        "print(min(sample_dict, key= sample_dict.get))\n"
      ],
      "metadata": {
        "colab": {
          "base_uri": "https://localhost:8080/"
        },
        "id": "TMtCfNAdGpoe",
        "outputId": "a1340d4a-3d35-4db0-adf7-5d5b57351faa"
      },
      "execution_count": 29,
      "outputs": [
        {
          "output_type": "stream",
          "name": "stdout",
          "text": [
            "Math\n"
          ]
        }
      ]
    },
    {
      "cell_type": "code",
      "source": [
        "#chnage value of a key in nested dictionary\n",
        "sample_dict = {\n",
        "    'emp1': {'name': 'Jhon', 'salary': 7500},\n",
        "    'emp2': {'name': 'Emma', 'salary': 8000},\n",
        "    'emp3': {'name': 'Brad', 'salary': 6500}\n",
        "}\n",
        "\n",
        "sample_dict['emp3']['salary'] = 8500\n",
        "print(sample_dict)"
      ],
      "metadata": {
        "colab": {
          "base_uri": "https://localhost:8080/"
        },
        "id": "arGdRTV1G_Pg",
        "outputId": "5049378c-b0dc-4cf0-f7b1-e20b279cc6d9"
      },
      "execution_count": 32,
      "outputs": [
        {
          "output_type": "stream",
          "name": "stdout",
          "text": [
            "{'emp1': {'name': 'Jhon', 'salary': 7500}, 'emp2': {'name': 'Emma', 'salary': 8000}, 'emp3': {'name': 'Brad', 'salary': 8500}}\n"
          ]
        }
      ]
    }
  ]
}